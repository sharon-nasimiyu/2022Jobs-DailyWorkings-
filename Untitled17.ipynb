{
  "nbformat": 4,
  "nbformat_minor": 0,
  "metadata": {
    "colab": {
      "name": "Untitled17.ipynb",
      "provenance": [],
      "authorship_tag": "ABX9TyN3KHkqXN/R+kycxbOl7owt",
      "include_colab_link": true
    },
    "kernelspec": {
      "name": "python3",
      "display_name": "Python 3"
    },
    "language_info": {
      "name": "python"
    }
  },
  "cells": [
    {
      "cell_type": "markdown",
      "metadata": {
        "id": "view-in-github",
        "colab_type": "text"
      },
      "source": [
        "<a href=\"https://colab.research.google.com/github/sharon-nasimiyu/2022WebProject/blob/main/Untitled17.ipynb\" target=\"_parent\"><img src=\"https://colab.research.google.com/assets/colab-badge.svg\" alt=\"Open In Colab\"/></a>"
      ]
    },
    {
      "cell_type": "code",
      "execution_count": 2,
      "metadata": {
        "colab": {
          "base_uri": "https://localhost:8080/"
        },
        "id": "uqtUe9i9Gczy",
        "outputId": "29e2f8b5-1b3f-4507-df6f-455ae50b7c5f"
      },
      "outputs": [
        {
          "output_type": "stream",
          "name": "stdout",
          "text": [
            "Requirement already satisfied: monkeylearn in /usr/local/lib/python3.7/dist-packages (3.6.0)\n",
            "Requirement already satisfied: six>=1.10.0 in /usr/local/lib/python3.7/dist-packages (from monkeylearn) (1.15.0)\n",
            "Requirement already satisfied: requests>=2.8.1 in /usr/local/lib/python3.7/dist-packages (from monkeylearn) (2.23.0)\n",
            "Requirement already satisfied: certifi>=2017.4.17 in /usr/local/lib/python3.7/dist-packages (from requests>=2.8.1->monkeylearn) (2021.10.8)\n",
            "Requirement already satisfied: idna<3,>=2.5 in /usr/local/lib/python3.7/dist-packages (from requests>=2.8.1->monkeylearn) (2.10)\n",
            "Requirement already satisfied: urllib3!=1.25.0,!=1.25.1,<1.26,>=1.21.1 in /usr/local/lib/python3.7/dist-packages (from requests>=2.8.1->monkeylearn) (1.24.3)\n",
            "Requirement already satisfied: chardet<4,>=3.0.2 in /usr/local/lib/python3.7/dist-packages (from requests>=2.8.1->monkeylearn) (3.0.4)\n"
          ]
        }
      ],
      "source": [
        "!pip install monkeylearn\n"
      ]
    },
    {
      "cell_type": "code",
      "source": [
        "from monkeylearn import MonkeyLearn\n",
        " \n",
        "ml = MonkeyLearn('aba46e2dbabcb22218cb04a383e587559c43d687')\n",
        "model_id = 'ex_A9nCcXfn'\n",
        "data = ['first text', {'text': 'Amazon best selling books and most recently highly rated.', 'external_id': 'ANY_ID'}, '']\n",
        "response = ml.extractors.extract(model_id, data=data)\n",
        "\n",
        "print(response.body)"
      ],
      "metadata": {
        "colab": {
          "base_uri": "https://localhost:8080/"
        },
        "id": "_EEZo_yVLv3N",
        "outputId": "fd44e1cf-867d-40b4-ccb6-9f1a1981cc09"
      },
      "execution_count": 6,
      "outputs": [
        {
          "output_type": "stream",
          "name": "stdout",
          "text": [
            "[{'text': 'first text', 'external_id': None, 'error': False, 'extractions': []}, {'text': 'put your review.', 'external_id': 'ANY_ID', 'error': False, 'extractions': []}, {'text': '', 'external_id': None, 'error': True, 'error_detail': 'Invalid text, empty strings are not allowed', 'extractions': None}]\n"
          ]
        }
      ]
    }
  ]
}